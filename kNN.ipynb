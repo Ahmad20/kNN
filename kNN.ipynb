{
  "nbformat": 4,
  "nbformat_minor": 0,
  "metadata": {
    "colab": {
      "name": "kNN.ipynb",
      "provenance": [],
      "collapsed_sections": [],
      "authorship_tag": "ABX9TyNHMCOcnfRrAj4ab7kRhG7/",
      "include_colab_link": true
    },
    "kernelspec": {
      "name": "python3",
      "display_name": "Python 3"
    }
  },
  "cells": [
    {
      "cell_type": "markdown",
      "metadata": {
        "id": "view-in-github",
        "colab_type": "text"
      },
      "source": [
        "<a href=\"https://colab.research.google.com/github/Ahmad20/kNN/blob/main/kNN.ipynb\" target=\"_parent\"><img src=\"https://colab.research.google.com/assets/colab-badge.svg\" alt=\"Open In Colab\"/></a>"
      ]
    },
    {
      "cell_type": "code",
      "metadata": {
        "id": "0rldOGh_BhGK"
      },
      "source": [
        "import pandas as pd\r\n",
        "import math\r\n",
        "import statistics as stat\r\n",
        "from itertools import chain"
      ],
      "execution_count": 136,
      "outputs": []
    },
    {
      "cell_type": "code",
      "metadata": {
        "id": "O5FI2sXXBnxN"
      },
      "source": [
        "data = pd.read_csv(\"Diabetes.csv\", delimiter=',')\r\n",
        "x=data.drop(\"Outcome\", axis =1)\r\n",
        "y=data[\"Outcome\"]\r\n",
        "b=x.values.tolist()\r\n",
        "a=data.values.tolist()\r\n",
        "ab=pd.Series(a)\r\n",
        "aa=pd.Series(b)"
      ],
      "execution_count": 137,
      "outputs": []
    },
    {
      "cell_type": "code",
      "metadata": {
        "id": "HKph2J2kCuCN"
      },
      "source": [
        "def fold_data(data,a,b,c=0,d=0):\r\n",
        "  r1=range(a,b)\r\n",
        "  r2=range(c,d)\r\n",
        "  rd=range(len(data))\r\n",
        "  train_list=list(chain(r1,r2))\r\n",
        "  test_list=[i for i in rd if i not in train_list]\r\n",
        "  return train_list"
      ],
      "execution_count": 138,
      "outputs": []
    },
    {
      "cell_type": "code",
      "metadata": {
        "id": "UZddTsImCmTt"
      },
      "source": [
        "train1=fold_data(data,0,614)\r\n",
        "test1=[i for i in range(len(data)) if i not in train1]\r\n",
        "\r\n",
        "train2=fold_data(data,0,461,614,768)\r\n",
        "test2=[i for i in range(len(data)) if i not in train2]\r\n",
        "\r\n",
        "train3=fold_data(data,0,307,461,768)\r\n",
        "test3=[i for i in range(len(data)) if i not in train3]\r\n",
        "\r\n",
        "train4=fold_data(data,0,154,307,768)\r\n",
        "test4=[i for i in range(len(data)) if i not in train4]\r\n",
        "\r\n",
        "train5=fold_data(data,154,768)\r\n",
        "test5=[i for i in range(len(data)) if i not in train5]\r\n",
        "\r\n",
        "train_all=train1,train2,train3,train4,train5\r\n",
        "test_all=test1,test2,test3,test4,test5"
      ],
      "execution_count": 139,
      "outputs": []
    },
    {
      "cell_type": "code",
      "metadata": {
        "id": "eZ4SjxbxDCIV"
      },
      "source": [
        "def test_fold(ab, test_all, train_all,k):\r\n",
        "  pre=[]\r\n",
        "  acr=[]\r\n",
        "  for i in range(5):\r\n",
        "    for j in train_all[i]:\r\n",
        "      pred = predict_classification(ab[test_all[i]], ab[j],k)\r\n",
        "      pre.append(pred)\r\n",
        "    acy=accuracy(pre,y)\r\n",
        "    acr.append(acy)\r\n",
        "    pre=[]  \r\n",
        "  return stat.mean(acr)  "
      ],
      "execution_count": 140,
      "outputs": []
    },
    {
      "cell_type": "code",
      "metadata": {
        "id": "00Xv6FI3DG1n"
      },
      "source": [
        "def find_k(max_k):\r\n",
        "  f_list=[]\r\n",
        "  k_list=[]\r\n",
        "  for i in range(1,max_k+1):\r\n",
        "    f=test_fold(ab, test_all, train_all,i)\r\n",
        "    f_list.append(f)\r\n",
        "    k_list.append(i)\r\n",
        "  return k_list[f_list.index(max(f_list))],max(f_list)"
      ],
      "execution_count": 141,
      "outputs": []
    },
    {
      "cell_type": "code",
      "metadata": {
        "id": "rxwqfY1SGigJ"
      },
      "source": [
        "def find_f(max_k):\r\n",
        "  f_list=[]\r\n",
        "  k_list=[]\r\n",
        "  for i in range(1,max_k+1):\r\n",
        "    f=test_fold(ab, test_all, train_all,i)\r\n",
        "    f_list.append(f)\r\n",
        "    k_list.append(i)\r\n",
        "  return f_list"
      ],
      "execution_count": 142,
      "outputs": []
    },
    {
      "cell_type": "code",
      "metadata": {
        "id": "n7f_9uaXCRPZ"
      },
      "source": [
        "#Euclidean Distance\r\n",
        "def euclidean_distance(row1,row2):\r\n",
        "\tdistance = 0.0\r\n",
        "\tfor i in range(len(row1)-1):\r\n",
        "\t\tdistance += pow((row1[i] - row2[i]),2)\r\n",
        "\treturn math.sqrt(distance)"
      ],
      "execution_count": 143,
      "outputs": []
    },
    {
      "cell_type": "code",
      "metadata": {
        "id": "NPXl7WZgCUMa"
      },
      "source": [
        "#Neighbours\r\n",
        "def get_neighbors(train, test_row, num_neighbors):\r\n",
        "\tdistances = list()\r\n",
        "\tfor train_row in train:\r\n",
        "\t\tdist = euclidean_distance(test_row, train_row)\r\n",
        "\t\tdistances.append((train_row, dist))\r\n",
        "\tdistances.sort(key=lambda tup: tup[1])\r\n",
        "\tneighbors = list()\r\n",
        "\tfor i in range(num_neighbors):\r\n",
        "\t\tneighbors.append(distances[i][0])\r\n",
        "\treturn neighbors"
      ],
      "execution_count": 144,
      "outputs": []
    },
    {
      "cell_type": "code",
      "metadata": {
        "id": "hQA_rBmuDsOf"
      },
      "source": [
        "#Prediction\r\n",
        "def predict_classification(train, test_row, num_neighbors):\r\n",
        "\tneighbors = get_neighbors(train, test_row, num_neighbors)\r\n",
        "\toutput_values = [row[-1] for row in neighbors]\r\n",
        "\tprediction = max(set(output_values), key=output_values.count)\r\n",
        "\treturn prediction"
      ],
      "execution_count": 145,
      "outputs": []
    },
    {
      "cell_type": "code",
      "metadata": {
        "id": "sm-wNequDvkK"
      },
      "source": [
        "#Accuracy\r\n",
        "def accuracy(output,outcome):\r\n",
        "  add=0\r\n",
        "  for i in range(len(output)):\r\n",
        "    if output[i] == outcome[i]:\r\n",
        "      add=add+1\r\n",
        "    i=i+1\r\n",
        "  acc = add/len(output)*100\r\n",
        "  return acc"
      ],
      "execution_count": 146,
      "outputs": []
    },
    {
      "cell_type": "code",
      "metadata": {
        "colab": {
          "base_uri": "https://localhost:8080/"
        },
        "id": "a-76NICuDLny",
        "outputId": "7ef392f0-3b17-4e95-b79b-f0f74e183b49"
      },
      "source": [
        "#Output\r\n",
        "k=find_k(100)\r\n",
        "print(\"k =\",k[0],\"and accuracy of k=\",k[0],\"is\",k[1])"
      ],
      "execution_count": 156,
      "outputs": [
        {
          "output_type": "stream",
          "text": [
            "k = 57 and accuracy of k= 57 is 65.65837769126877\n"
          ],
          "name": "stdout"
        }
      ]
    },
    {
      "cell_type": "code",
      "metadata": {
        "id": "Jq6W-hzRh4sH"
      },
      "source": [
        "f=find_f(100)"
      ],
      "execution_count": 157,
      "outputs": []
    },
    {
      "cell_type": "code",
      "metadata": {
        "colab": {
          "base_uri": "https://localhost:8080/",
          "height": 421
        },
        "id": "9E3q9r6RFW_B",
        "outputId": "0488a434-6caa-4b35-c1f5-3536f637c5c3"
      },
      "source": [
        "import matplotlib.pyplot as plt\r\n",
        "plt.figure(figsize=(15,6))\r\n",
        "plt.title(\"Accuracy vs K Value\")\r\n",
        "plt.xlabel(\"K Value\")\r\n",
        "plt.ylabel(\"Accuracy\")\r\n",
        "plt.plot(range(1,101),f,color='blue', linestyle='dashed', marker='o', markerfacecolor='red', markersize=5)"
      ],
      "execution_count": 160,
      "outputs": [
        {
          "output_type": "execute_result",
          "data": {
            "text/plain": [
              "[<matplotlib.lines.Line2D at 0x7f8770aa2550>]"
            ]
          },
          "metadata": {
            "tags": []
          },
          "execution_count": 160
        },
        {
          "output_type": "display_data",
          "data": {
            "image/png": "[encoded data removed]",
            "text/plain": [
              "<Figure size 1080x432 with 1 Axes>"
            ]
          },
          "metadata": {
            "tags": [],
            "needs_background": "light"
          }
        }
      ]
    }
  ]
}